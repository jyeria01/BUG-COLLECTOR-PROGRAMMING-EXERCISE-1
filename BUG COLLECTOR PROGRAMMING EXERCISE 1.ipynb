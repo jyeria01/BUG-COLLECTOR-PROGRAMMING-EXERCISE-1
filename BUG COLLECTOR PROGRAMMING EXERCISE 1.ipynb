{
 "cells": [
  {
   "cell_type": "markdown",
   "id": "76d87e02",
   "metadata": {},
   "source": [
    "# CHAPTER 4 - BUG COLLECTOR PROGRAMMING EXERCISE 1\n",
    "A bug collector collects bugs every day for five days. Write a program that keeps a running total of the number of bugs collected during the five days. The loop should ask for the number of bugs collected for each day, and when the loop is finished, the program should dsiplay the total number of bugs collected."
   ]
  },
  {
   "cell_type": "code",
   "execution_count": 2,
   "id": "29916823",
   "metadata": {},
   "outputs": [],
   "source": [
    "# Initialize variables for bugs and bugs collected\n",
    "# Get the number of bugs collected each day\n",
    "# Display the total number of bugs collected"
   ]
  },
  {
   "cell_type": "code",
   "execution_count": 3,
   "id": "c2c33ecd",
   "metadata": {},
   "outputs": [],
   "source": [
    "# Initialize variables for bugs and bugs collected\n",
    "bugs = 0\n",
    "total = 0"
   ]
  },
  {
   "cell_type": "code",
   "execution_count": 4,
   "id": "931bb9fe",
   "metadata": {},
   "outputs": [
    {
     "name": "stdout",
     "output_type": "stream",
     "text": [
      "Enter the number of bugs collected today: 15\n",
      "Enter the number of bugs collected today: 45\n",
      "Enter the number of bugs collected today: 16\n",
      "Enter the number of bugs collected today: 4\n",
      "Enter the number of bugs collected today: 76\n"
     ]
    }
   ],
   "source": [
    "# Get the number of bugs collected each day\n",
    "for day in range(5):\n",
    "    # Get user to enter number of bugs collected each day and add\n",
    "    bugs = int(input('Enter the number of bugs collected today: '))\n",
    "    total += bugs"
   ]
  },
  {
   "cell_type": "code",
   "execution_count": null,
   "id": "932a1743",
   "metadata": {},
   "outputs": [],
   "source": []
  }
 ],
 "metadata": {
  "kernelspec": {
   "display_name": "Python 3 (ipykernel)",
   "language": "python",
   "name": "python3"
  },
  "language_info": {
   "codemirror_mode": {
    "name": "ipython",
    "version": 3
   },
   "file_extension": ".py",
   "mimetype": "text/x-python",
   "name": "python",
   "nbconvert_exporter": "python",
   "pygments_lexer": "ipython3",
   "version": "3.11.4"
  }
 },
 "nbformat": 4,
 "nbformat_minor": 5
}
