{
 "cells": [
  {
   "cell_type": "markdown",
   "id": "cf264881",
   "metadata": {},
   "source": [
    "# CHAPTER 4 - BUG COLLECTOR PROGRAMMING EXERCISE 1\n",
    "A bug collector collects bugs every day for five days. Write a program that keeps a running total of the number of bugs collected during the five days. The loop should ask for the number of bugs collected for each day, and when the loop is finished, the program should dsiplay the total number of bugs collected."
   ]
  },
  {
   "cell_type": "code",
   "execution_count": 1,
   "id": "a397e5b7",
   "metadata": {},
   "outputs": [],
   "source": [
    "# Initialize variables for bugs and bugs collected\n",
    "# Get the number of bugs collected each day\n",
    "# Display the total number of bugs collected"
   ]
  },
  {
   "cell_type": "code",
   "execution_count": 2,
   "id": "d9c5e612",
   "metadata": {},
   "outputs": [
    {
     "name": "stdout",
     "output_type": "stream",
     "text": [
      "Enter the number of bugs collected on day 1: 11\n",
      "Enter the number of bugs collected on day 2: 23\n",
      "Enter the number of bugs collected on day 3: 51\n",
      "Enter the number of bugs collected on day 4: 7\n",
      "Enter the number of bugs collected on day 5: 26\n",
      "Total number of bugs collected  118\n"
     ]
    }
   ],
   "source": [
    "# Initialize variables for bugs and bugs collected\n",
    "bugs = 0\n",
    "total = 0\n",
    "\n",
    "# Get the number of bugs collected each day\n",
    "for day in range(5):\n",
    "    # Get user to enter number of bugs collected each day and add\n",
    "    bugs = int(input(\"Enter the number of bugs collected on day \" + str(day + 1) + \": \"))\n",
    "    total += bugs\n",
    "    \n",
    "# Display the total number of bugs collected\n",
    "print('Total number of bugs collected ', total)"
   ]
  }
 ],
 "metadata": {
  "kernelspec": {
   "display_name": "Python 3 (ipykernel)",
   "language": "python",
   "name": "python3"
  },
  "language_info": {
   "codemirror_mode": {
    "name": "ipython",
    "version": 3
   },
   "file_extension": ".py",
   "mimetype": "text/x-python",
   "name": "python",
   "nbconvert_exporter": "python",
   "pygments_lexer": "ipython3",
   "version": "3.11.4"
  }
 },
 "nbformat": 4,
 "nbformat_minor": 5
}
