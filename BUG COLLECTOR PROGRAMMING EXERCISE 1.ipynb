{
 "cells": [
  {
   "cell_type": "markdown",
   "id": "445694b7",
   "metadata": {},
   "source": [
    "# CHAPTER 4 - BUG COLLECTOR PROGRAMMING EXERCISE 1\n",
    "A bug collector collects bugs every day for five days. Write a program that keeps a running total of the number of bugs collected during the five days. The loop should ask for the number of bugs collected for each day, and when the loop is finished, the program should dsiplay the total number of bugs collected."
   ]
  },
  {
   "cell_type": "code",
   "execution_count": 1,
   "id": "86485151",
   "metadata": {},
   "outputs": [],
   "source": [
    "# Initialize variables for bugs and bugs collected\n",
    "# Get the number of bugs collected each day\n",
    "# Display the total number of bugs collected"
   ]
  },
  {
   "cell_type": "code",
   "execution_count": 2,
   "id": "5071ff6d",
   "metadata": {},
   "outputs": [],
   "source": [
    "# Initialize variables for bugs and bugs collected\n",
    "bugs = 0\n",
    "total = 0"
   ]
  },
  {
   "cell_type": "code",
   "execution_count": 3,
   "id": "10a33ab5",
   "metadata": {},
   "outputs": [
    {
     "name": "stdout",
     "output_type": "stream",
     "text": [
      "Enter the number of bugs collected on day 1: 21\n",
      "Enter the number of bugs collected on day 2: 54\n",
      "Enter the number of bugs collected on day 3: 66\n",
      "Enter the number of bugs collected on day 4: 78\n",
      "Enter the number of bugs collected on day 5: 97\n"
     ]
    }
   ],
   "source": [
    "# Get the number of bugs collected each day\n",
    "for day in range(5):\n",
    "    # Get user to enter number of bugs collected each day and add\n",
    "    bugs = int(input(\"Enter the number of bugs collected on day \" + str(day + 1) + \": \"))\n",
    "    total += bugs"
   ]
  },
  {
   "cell_type": "code",
   "execution_count": null,
   "id": "da34e4d2",
   "metadata": {},
   "outputs": [],
   "source": []
  }
 ],
 "metadata": {
  "kernelspec": {
   "display_name": "Python 3 (ipykernel)",
   "language": "python",
   "name": "python3"
  },
  "language_info": {
   "codemirror_mode": {
    "name": "ipython",
    "version": 3
   },
   "file_extension": ".py",
   "mimetype": "text/x-python",
   "name": "python",
   "nbconvert_exporter": "python",
   "pygments_lexer": "ipython3",
   "version": "3.11.4"
  }
 },
 "nbformat": 4,
 "nbformat_minor": 5
}
